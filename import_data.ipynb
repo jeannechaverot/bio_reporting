{
 "cells": [
  {
   "cell_type": "code",
   "execution_count": 8,
   "metadata": {},
   "outputs": [
    {
     "name": "stderr",
     "output_type": "stream",
     "text": [
      "/Users/jeannechaverot/opt/anaconda3/lib/python3.8/site-packages/pandas/core/computation/expressions.py:20: UserWarning: Pandas requires version '2.7.3' or newer of 'numexpr' (version '2.7.1' currently installed).\n",
      "  from pandas.core.computation.check import NUMEXPR_INSTALLED\n"
     ]
    }
   ],
   "source": [
    "import shutil\n",
    "import os, sys, random\n",
    "import xml.etree.ElementTree as ET\n",
    "from glob import glob\n",
    "import pandas as pd\n",
    "from shutil import copyfile\n",
    "import pandas as pd\n",
    "from sklearn import preprocessing, model_selection\n",
    "import matplotlib.pyplot as plt\n",
    "%matplotlib inline\n",
    "from matplotlib import patches\n",
    "import numpy as np\n",
    "import os"
   ]
  },
  {
   "cell_type": "markdown",
   "metadata": {},
   "source": [
    "### 0. Import Data"
   ]
  },
  {
   "cell_type": "markdown",
   "metadata": {},
   "source": [
    "Notebook to load and pre-process public data. Same code as one using on Google cloud to train model"
   ]
  },
  {
   "cell_type": "code",
   "execution_count": 10,
   "metadata": {},
   "outputs": [
    {
     "name": "stderr",
     "output_type": "stream",
     "text": [
      "YOLOv5 🚀 v7.0-226-gdd9e338 Python-3.8.5 torch-2.0.1 CPU\n"
     ]
    },
    {
     "name": "stdout",
     "output_type": "stream",
     "text": [
      "Setup complete ✅ (16 CPUs, 32.0 GB RAM, 905.2/931.5 GB disk)\n"
     ]
    }
   ],
   "source": [
    "!git clone https://github.com/ultralytics/yolov5  # clone\n",
    "%cd yolov5\n",
    "%pip install -qr requirements.txt comet_ml  # install\n",
    "\n",
    "import torch\n",
    "import utils\n",
    "display = utils.notebook_init()  # checks"
   ]
  },
  {
   "cell_type": "code",
   "execution_count": 11,
   "metadata": {},
   "outputs": [
    {
     "name": "stdout",
     "output_type": "stream",
     "text": [
      "Cloning into 'BCCD_Dataset'...\n",
      "remote: Enumerating objects: 800, done.\u001b[K\n",
      "remote: Total 800 (delta 0), reused 0 (delta 0), pack-reused 800\u001b[K\n",
      "Receiving objects: 100% (800/800), 7.39 MiB | 19.05 MiB/s, done.\n",
      "Resolving deltas: 100% (378/378), done.\n"
     ]
    }
   ],
   "source": [
    "!git clone 'https://github.com/Shenggan/BCCD_Dataset.git'"
   ]
  },
  {
   "cell_type": "code",
   "execution_count": 12,
   "metadata": {},
   "outputs": [],
   "source": [
    "annotations = sorted(glob('BCCD_Dataset/BCCD/Annotations/*.xml'))\n",
    "\n",
    "df = []\n",
    "cnt = 0\n",
    "for file in annotations:\n",
    "  prev_filename = file.split('/')[-1].split('.')[0] + '.jpg'\n",
    "  filename = str(cnt) + '.jpg'\n",
    "  row = []\n",
    "  parsedXML = ET.parse(file)\n",
    "  for node in parsedXML.getroot().iter('object'):\n",
    "    blood_cells = node.find('name').text\n",
    "    xmin = int(node.find('bndbox/xmin').text)\n",
    "    xmax = int(node.find('bndbox/xmax').text)\n",
    "    ymin = int(node.find('bndbox/ymin').text)\n",
    "    ymax = int(node.find('bndbox/ymax').text)\n",
    "\n",
    "    row = [prev_filename, filename, blood_cells, xmin, xmax, ymin, ymax]\n",
    "    df.append(row)\n",
    "  cnt += 1\n",
    "\n",
    "data = pd.DataFrame(df, columns=['prev_filename', 'filename', 'cell_type', 'xmin', 'xmax', 'ymin', 'ymax'])\n",
    "\n",
    "data[['prev_filename','filename', 'cell_type', 'xmin', 'xmax', 'ymin', 'ymax']].to_csv('blood_cell_detection.csv', index=False)\n"
   ]
  },
  {
   "cell_type": "code",
   "execution_count": 13,
   "metadata": {},
   "outputs": [
    {
     "name": "stdout",
     "output_type": "stream",
     "text": [
      "['Platelets' 'RBC' 'WBC']\n"
     ]
    },
    {
     "data": {
      "text/html": [
       "<div>\n",
       "<style scoped>\n",
       "    .dataframe tbody tr th:only-of-type {\n",
       "        vertical-align: middle;\n",
       "    }\n",
       "\n",
       "    .dataframe tbody tr th {\n",
       "        vertical-align: top;\n",
       "    }\n",
       "\n",
       "    .dataframe thead th {\n",
       "        text-align: right;\n",
       "    }\n",
       "</style>\n",
       "<table border=\"1\" class=\"dataframe\">\n",
       "  <thead>\n",
       "    <tr style=\"text-align: right;\">\n",
       "      <th></th>\n",
       "      <th>prev_filename</th>\n",
       "      <th>filename</th>\n",
       "      <th>cell_type</th>\n",
       "      <th>xmin</th>\n",
       "      <th>xmax</th>\n",
       "      <th>...</th>\n",
       "      <th>y_center</th>\n",
       "      <th>x_center_norm</th>\n",
       "      <th>width_norm</th>\n",
       "      <th>y_center_norm</th>\n",
       "      <th>height_norm</th>\n",
       "    </tr>\n",
       "  </thead>\n",
       "  <tbody>\n",
       "    <tr>\n",
       "      <th>0</th>\n",
       "      <td>BloodImage_00000.jpg</td>\n",
       "      <td>0.jpg</td>\n",
       "      <td>WBC</td>\n",
       "      <td>260</td>\n",
       "      <td>491</td>\n",
       "      <td>...</td>\n",
       "      <td>276</td>\n",
       "      <td>0.585938</td>\n",
       "      <td>0.360938</td>\n",
       "      <td>0.575000</td>\n",
       "      <td>0.414583</td>\n",
       "    </tr>\n",
       "    <tr>\n",
       "      <th>1</th>\n",
       "      <td>BloodImage_00000.jpg</td>\n",
       "      <td>0.jpg</td>\n",
       "      <td>RBC</td>\n",
       "      <td>78</td>\n",
       "      <td>184</td>\n",
       "      <td>...</td>\n",
       "      <td>385</td>\n",
       "      <td>0.204687</td>\n",
       "      <td>0.165625</td>\n",
       "      <td>0.802083</td>\n",
       "      <td>0.206250</td>\n",
       "    </tr>\n",
       "    <tr>\n",
       "      <th>2</th>\n",
       "      <td>BloodImage_00000.jpg</td>\n",
       "      <td>0.jpg</td>\n",
       "      <td>RBC</td>\n",
       "      <td>63</td>\n",
       "      <td>169</td>\n",
       "      <td>...</td>\n",
       "      <td>286</td>\n",
       "      <td>0.181250</td>\n",
       "      <td>0.165625</td>\n",
       "      <td>0.595833</td>\n",
       "      <td>0.206250</td>\n",
       "    </tr>\n",
       "    <tr>\n",
       "      <th>3</th>\n",
       "      <td>BloodImage_00000.jpg</td>\n",
       "      <td>0.jpg</td>\n",
       "      <td>RBC</td>\n",
       "      <td>214</td>\n",
       "      <td>320</td>\n",
       "      <td>...</td>\n",
       "      <td>411</td>\n",
       "      <td>0.417187</td>\n",
       "      <td>0.165625</td>\n",
       "      <td>0.856250</td>\n",
       "      <td>0.206250</td>\n",
       "    </tr>\n",
       "    <tr>\n",
       "      <th>4</th>\n",
       "      <td>BloodImage_00000.jpg</td>\n",
       "      <td>0.jpg</td>\n",
       "      <td>RBC</td>\n",
       "      <td>414</td>\n",
       "      <td>506</td>\n",
       "      <td>...</td>\n",
       "      <td>398</td>\n",
       "      <td>0.718750</td>\n",
       "      <td>0.143750</td>\n",
       "      <td>0.829167</td>\n",
       "      <td>0.193750</td>\n",
       "    </tr>\n",
       "  </tbody>\n",
       "</table>\n",
       "<p>5 rows × 16 columns</p>\n",
       "</div>"
      ],
      "text/plain": [
       "          prev_filename filename cell_type  xmin  xmax  ...  y_center   \n",
       "0  BloodImage_00000.jpg    0.jpg       WBC   260   491  ...       276  \\\n",
       "1  BloodImage_00000.jpg    0.jpg       RBC    78   184  ...       385   \n",
       "2  BloodImage_00000.jpg    0.jpg       RBC    63   169  ...       286   \n",
       "3  BloodImage_00000.jpg    0.jpg       RBC   214   320  ...       411   \n",
       "4  BloodImage_00000.jpg    0.jpg       RBC   414   506  ...       398   \n",
       "\n",
       "   x_center_norm  width_norm  y_center_norm  height_norm  \n",
       "0       0.585938    0.360938       0.575000     0.414583  \n",
       "1       0.204687    0.165625       0.802083     0.206250  \n",
       "2       0.181250    0.165625       0.595833     0.206250  \n",
       "3       0.417187    0.165625       0.856250     0.206250  \n",
       "4       0.718750    0.143750       0.829167     0.193750  \n",
       "\n",
       "[5 rows x 16 columns]"
      ]
     },
     "execution_count": 13,
     "metadata": {},
     "output_type": "execute_result"
    }
   ],
   "source": [
    "img_width = 640\n",
    "img_height = 480\n",
    "\n",
    "def width(df):\n",
    "  return int(df.xmax - df.xmin)\n",
    "def height(df):\n",
    "  return int(df.ymax - df.ymin)\n",
    "def x_center(df):\n",
    "  return int(df.xmin + (df.width/2))\n",
    "def y_center(df):\n",
    "  return int(df.ymin + (df.height/2))\n",
    "def w_norm(df):\n",
    "  return df/img_width\n",
    "def h_norm(df):\n",
    "  return df/img_height\n",
    "\n",
    "df = pd.read_csv('blood_cell_detection.csv')\n",
    "\n",
    "le = preprocessing.LabelEncoder()\n",
    "le.fit(df['cell_type'])\n",
    "print(le.classes_)\n",
    "labels = le.transform(df['cell_type'])\n",
    "df['labels'] = labels\n",
    "\n",
    "df['width'] = df.apply(width, axis=1)\n",
    "df['height'] = df.apply(height, axis=1)\n",
    "\n",
    "df['x_center'] = df.apply(x_center, axis=1)\n",
    "df['y_center'] = df.apply(y_center, axis=1)\n",
    "\n",
    "df['x_center_norm'] = df['x_center'].apply(w_norm)\n",
    "df['width_norm'] = df['width'].apply(w_norm)\n",
    "\n",
    "df['y_center_norm'] = df['y_center'].apply(h_norm)\n",
    "df['height_norm'] = df['height'].apply(h_norm)\n",
    "\n",
    "df.head(5)"
   ]
  },
  {
   "cell_type": "code",
   "execution_count": 14,
   "metadata": {},
   "outputs": [
    {
     "name": "stdout",
     "output_type": "stream",
     "text": [
      "(4399, 16) (489, 16)\n"
     ]
    }
   ],
   "source": [
    "df_train, df_valid = model_selection.train_test_split(df, test_size=0.1, random_state=13, shuffle=True)\n",
    "print(df_train.shape, df_valid.shape)"
   ]
  },
  {
   "cell_type": "code",
   "execution_count": 15,
   "metadata": {},
   "outputs": [],
   "source": [
    "os.mkdir('bcc/')\n",
    "os.mkdir('bcc/images/')\n",
    "os.mkdir('bcc/images/train/')\n",
    "os.mkdir('bcc/images/valid/')\n",
    "\n",
    "os.mkdir('bcc/labels/')\n",
    "os.mkdir('bcc/labels/train/')\n",
    "os.mkdir('bcc/labels/valid/')"
   ]
  },
  {
   "cell_type": "code",
   "execution_count": 16,
   "metadata": {},
   "outputs": [],
   "source": [
    "def segregate_data(df, img_path, label_path, train_img_path, train_label_path):\n",
    "  filenames = []\n",
    "  for filename in df.filename:\n",
    "    filenames.append(filename)\n",
    "  filenames = set(filenames)\n",
    "\n",
    "  for filename in filenames:\n",
    "    yolo_list = []\n",
    "\n",
    "    for _,row in df[df.filename == filename].iterrows():\n",
    "      yolo_list.append([row.labels, row.x_center_norm, row.y_center_norm, row.width_norm, row.height_norm])\n",
    "\n",
    "    yolo_list = np.array(yolo_list)\n",
    "    txt_filename = os.path.join(train_label_path,str(row.prev_filename.split('.')[0])+\".txt\")\n",
    "    # Save the .img & .txt files to the corresponding train and validation folders\n",
    "    np.savetxt(txt_filename, yolo_list, fmt=[\"%d\", \"%f\", \"%f\", \"%f\", \"%f\"])\n",
    "    shutil.copyfile(os.path.join(img_path,row.prev_filename), os.path.join(train_img_path,row.prev_filename))"
   ]
  },
  {
   "cell_type": "code",
   "execution_count": 17,
   "metadata": {},
   "outputs": [
    {
     "name": "stdout",
     "output_type": "stream",
     "text": [
      "CPU times: user 1.78 s, sys: 552 ms, total: 2.33 s\n",
      "Wall time: 2.54 s\n"
     ]
    }
   ],
   "source": [
    "%%time\n",
    "src_img_path = \"BCCD_Dataset/BCCD/JPEGImages/\"\n",
    "src_label_path = \"BCCD_Dataset/BCCD/Annotations/\"\n",
    "\n",
    "train_img_path = \"bcc/images/train\"\n",
    "train_label_path = \"bcc/labels/train\"\n",
    "\n",
    "valid_img_path = \"bcc/images/valid\"\n",
    "valid_label_path = \"bcc/labels/valid\"\n",
    "\n",
    "segregate_data(df_train, src_img_path, src_label_path, train_img_path, train_label_path)\n",
    "segregate_data(df_valid, src_img_path, src_label_path, valid_img_path, valid_label_path)"
   ]
  }
 ],
 "metadata": {
  "kernelspec": {
   "display_name": "Python 3",
   "language": "python",
   "name": "python3"
  },
  "language_info": {
   "codemirror_mode": {
    "name": "ipython",
    "version": 3
   },
   "file_extension": ".py",
   "mimetype": "text/x-python",
   "name": "python",
   "nbconvert_exporter": "python",
   "pygments_lexer": "ipython3",
   "version": "3.8.5"
  }
 },
 "nbformat": 4,
 "nbformat_minor": 4
}
